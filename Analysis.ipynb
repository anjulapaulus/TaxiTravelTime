{
 "cells": [
  {
   "cell_type": "code",
   "execution_count": 1,
   "metadata": {},
   "outputs": [],
   "source": [
    "import pandas as pd       #data processing\n",
    "import numpy as np        #linear algebra\n",
    "\n",
    "import seaborn as sns     \n",
    "sns.set()\n",
    "import matplotlib.pyplot as plt\n",
    "%matplotlib inline\n",
    "\n",
    "import datetime as dt\n",
    "\n",
    "import warnings; warnings.simplefilter('ignore')"
   ]
  },
  {
   "cell_type": "code",
   "execution_count": 2,
   "metadata": {},
   "outputs": [],
   "source": [
    "preprocessed_data = data=pd.read_csv(\"preprocessed_dataset.csv\")\n",
    "data = data=pd.read_csv(\"Datasets/yellow_tripdata_2013-08.csv\")"
   ]
  },
  {
   "cell_type": "code",
   "execution_count": 3,
   "metadata": {},
   "outputs": [
    {
     "output_type": "execute_result",
     "data": {
      "text/plain": [
       "   Unnamed: 0  passenger_count  trip_distance  pickup_longitude  \\\n",
       "0           0                1            1.0        -73.989877   \n",
       "1           1                1            6.7        -73.979861   \n",
       "2           5                1            1.1        -73.968052   \n",
       "3           6                2            1.6        -73.981102   \n",
       "4           7                1            1.4        -73.959671   \n",
       "\n",
       "   pickup_latitude  dropoff_longitude  dropoff_latitude  trip_duration  \\\n",
       "0        40.734282         -73.999419         40.731370      11.416667   \n",
       "1        40.760016         -73.941870         40.807038      28.866667   \n",
       "2        40.759396         -73.955766         40.768182       3.250000   \n",
       "3        40.758697         -73.997180         40.744726       6.950000   \n",
       "4        40.790207         -73.977851         40.782913       4.366667   \n",
       "\n",
       "   pickup_duration      Speed  \n",
       "0     1.377511e+09   5.255474  \n",
       "1     1.377783e+09  13.926097  \n",
       "2     1.377896e+09  20.307692  \n",
       "3     1.377540e+09  13.812950  \n",
       "4     1.377525e+09  19.236641  "
      ],
      "text/html": "<div>\n<style scoped>\n    .dataframe tbody tr th:only-of-type {\n        vertical-align: middle;\n    }\n\n    .dataframe tbody tr th {\n        vertical-align: top;\n    }\n\n    .dataframe thead th {\n        text-align: right;\n    }\n</style>\n<table border=\"1\" class=\"dataframe\">\n  <thead>\n    <tr style=\"text-align: right;\">\n      <th></th>\n      <th>Unnamed: 0</th>\n      <th>passenger_count</th>\n      <th>trip_distance</th>\n      <th>pickup_longitude</th>\n      <th>pickup_latitude</th>\n      <th>dropoff_longitude</th>\n      <th>dropoff_latitude</th>\n      <th>trip_duration</th>\n      <th>pickup_duration</th>\n      <th>Speed</th>\n    </tr>\n  </thead>\n  <tbody>\n    <tr>\n      <th>0</th>\n      <td>0</td>\n      <td>1</td>\n      <td>1.0</td>\n      <td>-73.989877</td>\n      <td>40.734282</td>\n      <td>-73.999419</td>\n      <td>40.731370</td>\n      <td>11.416667</td>\n      <td>1.377511e+09</td>\n      <td>5.255474</td>\n    </tr>\n    <tr>\n      <th>1</th>\n      <td>1</td>\n      <td>1</td>\n      <td>6.7</td>\n      <td>-73.979861</td>\n      <td>40.760016</td>\n      <td>-73.941870</td>\n      <td>40.807038</td>\n      <td>28.866667</td>\n      <td>1.377783e+09</td>\n      <td>13.926097</td>\n    </tr>\n    <tr>\n      <th>2</th>\n      <td>5</td>\n      <td>1</td>\n      <td>1.1</td>\n      <td>-73.968052</td>\n      <td>40.759396</td>\n      <td>-73.955766</td>\n      <td>40.768182</td>\n      <td>3.250000</td>\n      <td>1.377896e+09</td>\n      <td>20.307692</td>\n    </tr>\n    <tr>\n      <th>3</th>\n      <td>6</td>\n      <td>2</td>\n      <td>1.6</td>\n      <td>-73.981102</td>\n      <td>40.758697</td>\n      <td>-73.997180</td>\n      <td>40.744726</td>\n      <td>6.950000</td>\n      <td>1.377540e+09</td>\n      <td>13.812950</td>\n    </tr>\n    <tr>\n      <th>4</th>\n      <td>7</td>\n      <td>1</td>\n      <td>1.4</td>\n      <td>-73.959671</td>\n      <td>40.790207</td>\n      <td>-73.977851</td>\n      <td>40.782913</td>\n      <td>4.366667</td>\n      <td>1.377525e+09</td>\n      <td>19.236641</td>\n    </tr>\n  </tbody>\n</table>\n</div>"
     },
     "metadata": {},
     "execution_count": 3
    }
   ],
   "source": [
    "preprocessed_data.head()"
   ]
  },
  {
   "cell_type": "code",
   "execution_count": 4,
   "metadata": {},
   "outputs": [
    {
     "output_type": "execute_result",
     "data": {
      "text/plain": [
       "  vendor_id      pickup_datetime     dropoff_datetime  passenger_count  \\\n",
       "0       CMT  2013-08-26 15:33:22  2013-08-26 15:44:47                1   \n",
       "1       CMT  2013-08-29 19:08:04  2013-08-29 19:36:56                1   \n",
       "2       CMT  2013-08-26 13:54:27  2013-08-26 14:08:44                1   \n",
       "3       CMT  2013-08-30 08:48:17  2013-08-30 09:30:51                2   \n",
       "4       CMT  2013-08-26 14:38:38  2013-08-26 14:57:43                1   \n",
       "\n",
       "   trip_distance  pickup_longitude  pickup_latitude  rate_code  \\\n",
       "0            1.0        -73.989877        40.734282          1   \n",
       "1            6.7        -73.979861        40.760016          1   \n",
       "2            3.0        -74.010442        40.710103          1   \n",
       "3            5.2        -73.927998        40.763857          1   \n",
       "4            4.2        -73.990084        40.742318          1   \n",
       "\n",
       "  store_and_fwd_flag  dropoff_longitude  dropoff_latitude payment_type  \\\n",
       "0                  N         -73.999419         40.731370          CSH   \n",
       "1                  N         -73.941870         40.807038          CSH   \n",
       "2                  N         -73.987447         40.749764          CSH   \n",
       "3                  N         -73.990953         40.756045          CSH   \n",
       "4                  N         -74.014300         40.704145          CSH   \n",
       "\n",
       "   fare_amount  surcharge  mta_tax  tip_amount  tolls_amount  total_amount  \n",
       "0          8.5        0.0      0.5         0.0           0.0           9.0  \n",
       "1         24.5        1.0      0.5         0.0           0.0          26.0  \n",
       "2         12.5        0.0      0.5         0.0           0.0          13.0  \n",
       "3         27.0        0.0      0.5         0.0           0.0          27.5  \n",
       "4         17.0        0.0      0.5         0.0           0.0          17.5  "
      ],
      "text/html": "<div>\n<style scoped>\n    .dataframe tbody tr th:only-of-type {\n        vertical-align: middle;\n    }\n\n    .dataframe tbody tr th {\n        vertical-align: top;\n    }\n\n    .dataframe thead th {\n        text-align: right;\n    }\n</style>\n<table border=\"1\" class=\"dataframe\">\n  <thead>\n    <tr style=\"text-align: right;\">\n      <th></th>\n      <th>vendor_id</th>\n      <th>pickup_datetime</th>\n      <th>dropoff_datetime</th>\n      <th>passenger_count</th>\n      <th>trip_distance</th>\n      <th>pickup_longitude</th>\n      <th>pickup_latitude</th>\n      <th>rate_code</th>\n      <th>store_and_fwd_flag</th>\n      <th>dropoff_longitude</th>\n      <th>dropoff_latitude</th>\n      <th>payment_type</th>\n      <th>fare_amount</th>\n      <th>surcharge</th>\n      <th>mta_tax</th>\n      <th>tip_amount</th>\n      <th>tolls_amount</th>\n      <th>total_amount</th>\n    </tr>\n  </thead>\n  <tbody>\n    <tr>\n      <th>0</th>\n      <td>CMT</td>\n      <td>2013-08-26 15:33:22</td>\n      <td>2013-08-26 15:44:47</td>\n      <td>1</td>\n      <td>1.0</td>\n      <td>-73.989877</td>\n      <td>40.734282</td>\n      <td>1</td>\n      <td>N</td>\n      <td>-73.999419</td>\n      <td>40.731370</td>\n      <td>CSH</td>\n      <td>8.5</td>\n      <td>0.0</td>\n      <td>0.5</td>\n      <td>0.0</td>\n      <td>0.0</td>\n      <td>9.0</td>\n    </tr>\n    <tr>\n      <th>1</th>\n      <td>CMT</td>\n      <td>2013-08-29 19:08:04</td>\n      <td>2013-08-29 19:36:56</td>\n      <td>1</td>\n      <td>6.7</td>\n      <td>-73.979861</td>\n      <td>40.760016</td>\n      <td>1</td>\n      <td>N</td>\n      <td>-73.941870</td>\n      <td>40.807038</td>\n      <td>CSH</td>\n      <td>24.5</td>\n      <td>1.0</td>\n      <td>0.5</td>\n      <td>0.0</td>\n      <td>0.0</td>\n      <td>26.0</td>\n    </tr>\n    <tr>\n      <th>2</th>\n      <td>CMT</td>\n      <td>2013-08-26 13:54:27</td>\n      <td>2013-08-26 14:08:44</td>\n      <td>1</td>\n      <td>3.0</td>\n      <td>-74.010442</td>\n      <td>40.710103</td>\n      <td>1</td>\n      <td>N</td>\n      <td>-73.987447</td>\n      <td>40.749764</td>\n      <td>CSH</td>\n      <td>12.5</td>\n      <td>0.0</td>\n      <td>0.5</td>\n      <td>0.0</td>\n      <td>0.0</td>\n      <td>13.0</td>\n    </tr>\n    <tr>\n      <th>3</th>\n      <td>CMT</td>\n      <td>2013-08-30 08:48:17</td>\n      <td>2013-08-30 09:30:51</td>\n      <td>2</td>\n      <td>5.2</td>\n      <td>-73.927998</td>\n      <td>40.763857</td>\n      <td>1</td>\n      <td>N</td>\n      <td>-73.990953</td>\n      <td>40.756045</td>\n      <td>CSH</td>\n      <td>27.0</td>\n      <td>0.0</td>\n      <td>0.5</td>\n      <td>0.0</td>\n      <td>0.0</td>\n      <td>27.5</td>\n    </tr>\n    <tr>\n      <th>4</th>\n      <td>CMT</td>\n      <td>2013-08-26 14:38:38</td>\n      <td>2013-08-26 14:57:43</td>\n      <td>1</td>\n      <td>4.2</td>\n      <td>-73.990084</td>\n      <td>40.742318</td>\n      <td>1</td>\n      <td>N</td>\n      <td>-74.014300</td>\n      <td>40.704145</td>\n      <td>CSH</td>\n      <td>17.0</td>\n      <td>0.0</td>\n      <td>0.5</td>\n      <td>0.0</td>\n      <td>0.0</td>\n      <td>17.5</td>\n    </tr>\n  </tbody>\n</table>\n</div>"
     },
     "metadata": {},
     "execution_count": 4
    }
   ],
   "source": [
    "data.head()"
   ]
  },
  {
   "cell_type": "code",
   "execution_count": 2,
   "metadata": {},
   "outputs": [],
   "source": [
    "data=pd.read_csv(\"Datasets/yellow_tripdata_2013-08.csv\")"
   ]
  },
  {
   "cell_type": "code",
   "execution_count": 3,
   "metadata": {},
   "outputs": [
    {
     "data": {
      "text/plain": [
       "(12597109, 18)"
      ]
     },
     "execution_count": 3,
     "metadata": {},
     "output_type": "execute_result"
    }
   ],
   "source": [
    "data.shape"
   ]
  },
  {
   "cell_type": "code",
   "execution_count": 4,
   "metadata": {},
   "outputs": [
    {
     "data": {
      "text/plain": [
       "Index(['vendor_id', 'pickup_datetime', 'dropoff_datetime', 'passenger_count',\n",
       "       'trip_distance', 'pickup_longitude', 'pickup_latitude', 'rate_code',\n",
       "       'store_and_fwd_flag', 'dropoff_longitude', 'dropoff_latitude',\n",
       "       'payment_type', 'fare_amount', 'surcharge', 'mta_tax', 'tip_amount',\n",
       "       'tolls_amount', 'total_amount'],\n",
       "      dtype='object')"
      ]
     },
     "execution_count": 4,
     "metadata": {},
     "output_type": "execute_result"
    }
   ],
   "source": [
    "data.columns"
   ]
  },
  {
   "cell_type": "code",
   "execution_count": 5,
   "metadata": {},
   "outputs": [
    {
     "data": {
      "text/plain": [
       "vendor_id                   0\n",
       "pickup_datetime             0\n",
       "dropoff_datetime            0\n",
       "passenger_count             0\n",
       "trip_distance               0\n",
       "pickup_longitude            0\n",
       "pickup_latitude             0\n",
       "rate_code                   0\n",
       "store_and_fwd_flag    6066630\n",
       "dropoff_longitude          45\n",
       "dropoff_latitude           45\n",
       "payment_type                0\n",
       "fare_amount                 0\n",
       "surcharge                   0\n",
       "mta_tax                     0\n",
       "tip_amount                  0\n",
       "tolls_amount                0\n",
       "total_amount                0\n",
       "dtype: int64"
      ]
     },
     "execution_count": 5,
     "metadata": {},
     "output_type": "execute_result"
    }
   ],
   "source": [
    "data.isnull().sum()"
   ]
  },
  {
   "cell_type": "code",
   "execution_count": 6,
   "metadata": {},
   "outputs": [],
   "source": [
    "data = data.dropna(subset=['dropoff_longitude','dropoff_latitude'])"
   ]
  },
  {
   "cell_type": "code",
   "execution_count": 7,
   "metadata": {},
   "outputs": [
    {
     "data": {
      "text/plain": [
       "vendor_id                   0\n",
       "pickup_datetime             0\n",
       "dropoff_datetime            0\n",
       "passenger_count             0\n",
       "trip_distance               0\n",
       "pickup_longitude            0\n",
       "pickup_latitude             0\n",
       "rate_code                   0\n",
       "store_and_fwd_flag    6066585\n",
       "dropoff_longitude           0\n",
       "dropoff_latitude            0\n",
       "payment_type                0\n",
       "fare_amount                 0\n",
       "surcharge                   0\n",
       "mta_tax                     0\n",
       "tip_amount                  0\n",
       "tolls_amount                0\n",
       "total_amount                0\n",
       "dtype: int64"
      ]
     },
     "execution_count": 7,
     "metadata": {},
     "output_type": "execute_result"
    }
   ],
   "source": [
    "data.isnull().sum()"
   ]
  },
  {
   "cell_type": "code",
   "execution_count": 8,
   "metadata": {},
   "outputs": [
    {
     "data": {
      "text/plain": [
       "vendor_id                   2\n",
       "pickup_datetime       2225920\n",
       "dropoff_datetime      2227157\n",
       "passenger_count            11\n",
       "trip_distance            4958\n",
       "pickup_longitude       176983\n",
       "pickup_latitude        189384\n",
       "rate_code                  14\n",
       "store_and_fwd_flag          2\n",
       "dropoff_longitude      252791\n",
       "dropoff_latitude       264631\n",
       "payment_type                5\n",
       "fare_amount              1798\n",
       "surcharge                  60\n",
       "mta_tax                    19\n",
       "tip_amount               3203\n",
       "tolls_amount              962\n",
       "total_amount            11164\n",
       "dtype: int64"
      ]
     },
     "execution_count": 8,
     "metadata": {},
     "output_type": "execute_result"
    }
   ],
   "source": [
    "data.nunique()"
   ]
  },
  {
   "cell_type": "code",
   "execution_count": 9,
   "metadata": {},
   "outputs": [
    {
     "data": {
      "text/html": [
       "<div>\n",
       "<style scoped>\n",
       "    .dataframe tbody tr th:only-of-type {\n",
       "        vertical-align: middle;\n",
       "    }\n",
       "\n",
       "    .dataframe tbody tr th {\n",
       "        vertical-align: top;\n",
       "    }\n",
       "\n",
       "    .dataframe thead th {\n",
       "        text-align: right;\n",
       "    }\n",
       "</style>\n",
       "<table border=\"1\" class=\"dataframe\">\n",
       "  <thead>\n",
       "    <tr style=\"text-align: right;\">\n",
       "      <th></th>\n",
       "      <th>passenger_count</th>\n",
       "      <th>trip_distance</th>\n",
       "      <th>pickup_longitude</th>\n",
       "      <th>pickup_latitude</th>\n",
       "      <th>rate_code</th>\n",
       "      <th>dropoff_longitude</th>\n",
       "      <th>dropoff_latitude</th>\n",
       "      <th>fare_amount</th>\n",
       "      <th>surcharge</th>\n",
       "      <th>mta_tax</th>\n",
       "      <th>tip_amount</th>\n",
       "      <th>tolls_amount</th>\n",
       "      <th>total_amount</th>\n",
       "    </tr>\n",
       "  </thead>\n",
       "  <tbody>\n",
       "    <tr>\n",
       "      <th>count</th>\n",
       "      <td>1.259706e+07</td>\n",
       "      <td>1.259706e+07</td>\n",
       "      <td>1.259706e+07</td>\n",
       "      <td>1.259706e+07</td>\n",
       "      <td>1.259706e+07</td>\n",
       "      <td>1.259706e+07</td>\n",
       "      <td>1.259706e+07</td>\n",
       "      <td>1.259706e+07</td>\n",
       "      <td>1.259706e+07</td>\n",
       "      <td>1.259706e+07</td>\n",
       "      <td>1.259706e+07</td>\n",
       "      <td>1.259706e+07</td>\n",
       "      <td>1.259706e+07</td>\n",
       "    </tr>\n",
       "    <tr>\n",
       "      <th>mean</th>\n",
       "      <td>1.701690e+00</td>\n",
       "      <td>7.743531e+01</td>\n",
       "      <td>-7.313444e+01</td>\n",
       "      <td>4.028556e+01</td>\n",
       "      <td>1.036399e+00</td>\n",
       "      <td>-7.308213e+01</td>\n",
       "      <td>4.025744e+01</td>\n",
       "      <td>1.256977e+01</td>\n",
       "      <td>3.310817e-01</td>\n",
       "      <td>4.977587e-01</td>\n",
       "      <td>1.359664e+00</td>\n",
       "      <td>2.752582e-01</td>\n",
       "      <td>1.513126e+01</td>\n",
       "    </tr>\n",
       "    <tr>\n",
       "      <th>std</th>\n",
       "      <td>1.369035e+00</td>\n",
       "      <td>2.461919e+04</td>\n",
       "      <td>7.880285e+00</td>\n",
       "      <td>4.680549e+00</td>\n",
       "      <td>3.719518e-01</td>\n",
       "      <td>8.134943e+00</td>\n",
       "      <td>4.942824e+00</td>\n",
       "      <td>5.453654e+01</td>\n",
       "      <td>8.009732e-01</td>\n",
       "      <td>7.391341e-02</td>\n",
       "      <td>2.351746e+00</td>\n",
       "      <td>1.499757e+00</td>\n",
       "      <td>2.522747e+02</td>\n",
       "    </tr>\n",
       "    <tr>\n",
       "      <th>min</th>\n",
       "      <td>0.000000e+00</td>\n",
       "      <td>0.000000e+00</td>\n",
       "      <td>-1.958327e+03</td>\n",
       "      <td>-3.347937e+03</td>\n",
       "      <td>0.000000e+00</td>\n",
       "      <td>-2.216325e+03</td>\n",
       "      <td>-3.114339e+03</td>\n",
       "      <td>-1.430000e+03</td>\n",
       "      <td>-1.950000e+01</td>\n",
       "      <td>-5.000000e-01</td>\n",
       "      <td>-9.682000e+01</td>\n",
       "      <td>-2.225000e+01</td>\n",
       "      <td>-1.430000e+03</td>\n",
       "    </tr>\n",
       "    <tr>\n",
       "      <th>25%</th>\n",
       "      <td>1.000000e+00</td>\n",
       "      <td>1.010000e+00</td>\n",
       "      <td>-7.399273e+01</td>\n",
       "      <td>4.073427e+01</td>\n",
       "      <td>1.000000e+00</td>\n",
       "      <td>-7.399186e+01</td>\n",
       "      <td>4.073335e+01</td>\n",
       "      <td>6.500000e+00</td>\n",
       "      <td>0.000000e+00</td>\n",
       "      <td>5.000000e-01</td>\n",
       "      <td>0.000000e+00</td>\n",
       "      <td>0.000000e+00</td>\n",
       "      <td>8.000000e+00</td>\n",
       "    </tr>\n",
       "    <tr>\n",
       "      <th>50%</th>\n",
       "      <td>1.000000e+00</td>\n",
       "      <td>1.900000e+00</td>\n",
       "      <td>-7.398235e+01</td>\n",
       "      <td>4.075160e+01</td>\n",
       "      <td>1.000000e+00</td>\n",
       "      <td>-7.398099e+01</td>\n",
       "      <td>4.075212e+01</td>\n",
       "      <td>9.500000e+00</td>\n",
       "      <td>5.000000e-01</td>\n",
       "      <td>5.000000e-01</td>\n",
       "      <td>1.000000e+00</td>\n",
       "      <td>0.000000e+00</td>\n",
       "      <td>1.130000e+01</td>\n",
       "    </tr>\n",
       "    <tr>\n",
       "      <th>75%</th>\n",
       "      <td>2.000000e+00</td>\n",
       "      <td>3.300000e+00</td>\n",
       "      <td>-7.396840e+01</td>\n",
       "      <td>4.076530e+01</td>\n",
       "      <td>1.000000e+00</td>\n",
       "      <td>-7.396511e+01</td>\n",
       "      <td>4.076591e+01</td>\n",
       "      <td>1.400000e+01</td>\n",
       "      <td>5.000000e-01</td>\n",
       "      <td>5.000000e-01</td>\n",
       "      <td>2.000000e+00</td>\n",
       "      <td>0.000000e+00</td>\n",
       "      <td>1.670000e+01</td>\n",
       "    </tr>\n",
       "    <tr>\n",
       "      <th>max</th>\n",
       "      <td>2.080000e+02</td>\n",
       "      <td>1.533180e+07</td>\n",
       "      <td>5.142525e+01</td>\n",
       "      <td>4.739583e+02</td>\n",
       "      <td>2.390000e+02</td>\n",
       "      <td>9.341115e+01</td>\n",
       "      <td>1.344402e+03</td>\n",
       "      <td>1.589958e+05</td>\n",
       "      <td>8.545000e+02</td>\n",
       "      <td>8.005000e+01</td>\n",
       "      <td>8.881900e+02</td>\n",
       "      <td>9.600900e+02</td>\n",
       "      <td>6.859081e+05</td>\n",
       "    </tr>\n",
       "  </tbody>\n",
       "</table>\n",
       "</div>"
      ],
      "text/plain": [
       "       passenger_count  trip_distance  pickup_longitude  pickup_latitude  \\\n",
       "count     1.259706e+07   1.259706e+07      1.259706e+07     1.259706e+07   \n",
       "mean      1.701690e+00   7.743531e+01     -7.313444e+01     4.028556e+01   \n",
       "std       1.369035e+00   2.461919e+04      7.880285e+00     4.680549e+00   \n",
       "min       0.000000e+00   0.000000e+00     -1.958327e+03    -3.347937e+03   \n",
       "25%       1.000000e+00   1.010000e+00     -7.399273e+01     4.073427e+01   \n",
       "50%       1.000000e+00   1.900000e+00     -7.398235e+01     4.075160e+01   \n",
       "75%       2.000000e+00   3.300000e+00     -7.396840e+01     4.076530e+01   \n",
       "max       2.080000e+02   1.533180e+07      5.142525e+01     4.739583e+02   \n",
       "\n",
       "          rate_code  dropoff_longitude  dropoff_latitude   fare_amount  \\\n",
       "count  1.259706e+07       1.259706e+07      1.259706e+07  1.259706e+07   \n",
       "mean   1.036399e+00      -7.308213e+01      4.025744e+01  1.256977e+01   \n",
       "std    3.719518e-01       8.134943e+00      4.942824e+00  5.453654e+01   \n",
       "min    0.000000e+00      -2.216325e+03     -3.114339e+03 -1.430000e+03   \n",
       "25%    1.000000e+00      -7.399186e+01      4.073335e+01  6.500000e+00   \n",
       "50%    1.000000e+00      -7.398099e+01      4.075212e+01  9.500000e+00   \n",
       "75%    1.000000e+00      -7.396511e+01      4.076591e+01  1.400000e+01   \n",
       "max    2.390000e+02       9.341115e+01      1.344402e+03  1.589958e+05   \n",
       "\n",
       "          surcharge       mta_tax    tip_amount  tolls_amount  total_amount  \n",
       "count  1.259706e+07  1.259706e+07  1.259706e+07  1.259706e+07  1.259706e+07  \n",
       "mean   3.310817e-01  4.977587e-01  1.359664e+00  2.752582e-01  1.513126e+01  \n",
       "std    8.009732e-01  7.391341e-02  2.351746e+00  1.499757e+00  2.522747e+02  \n",
       "min   -1.950000e+01 -5.000000e-01 -9.682000e+01 -2.225000e+01 -1.430000e+03  \n",
       "25%    0.000000e+00  5.000000e-01  0.000000e+00  0.000000e+00  8.000000e+00  \n",
       "50%    5.000000e-01  5.000000e-01  1.000000e+00  0.000000e+00  1.130000e+01  \n",
       "75%    5.000000e-01  5.000000e-01  2.000000e+00  0.000000e+00  1.670000e+01  \n",
       "max    8.545000e+02  8.005000e+01  8.881900e+02  9.600900e+02  6.859081e+05  "
      ]
     },
     "execution_count": 9,
     "metadata": {},
     "output_type": "execute_result"
    }
   ],
   "source": [
    "data.describe()"
   ]
  },
  {
   "cell_type": "code",
   "execution_count": 10,
   "metadata": {},
   "outputs": [],
   "source": [
    "data['pickup_datetime']=pd.to_datetime(data['pickup_datetime'])\n",
    "data['dropoff_datetime']=pd.to_datetime(data['dropoff_datetime'])"
   ]
  },
  {
   "cell_type": "code",
   "execution_count": 11,
   "metadata": {},
   "outputs": [],
   "source": [
    "data['pickup_day']=data['pickup_datetime'].dt.day_name()\n",
    "data['dropoff_day']=data['dropoff_datetime'].dt.day_name()"
   ]
  },
  {
   "cell_type": "code",
   "execution_count": 12,
   "metadata": {},
   "outputs": [],
   "source": [
    "data['pickup_day_no']=data['pickup_datetime'].dt.weekday\n",
    "data['dropoff_day_no']=data['dropoff_datetime'].dt.weekday"
   ]
  },
  {
   "cell_type": "code",
   "execution_count": 13,
   "metadata": {},
   "outputs": [],
   "source": [
    "data['pickup_hour']=data['pickup_datetime'].dt.hour\n",
    "data['dropoff_hour']=data['dropoff_datetime'].dt.hour"
   ]
  },
  {
   "cell_type": "code",
   "execution_count": 14,
   "metadata": {},
   "outputs": [],
   "source": [
    "data['pickup_month']=data['pickup_datetime'].dt.month\n",
    "data['dropoff_month']=data['dropoff_datetime'].dt.month"
   ]
  },
  {
   "cell_type": "code",
   "execution_count": 15,
   "metadata": {},
   "outputs": [],
   "source": [
    "def time_of_day(x):\n",
    "    if x in range(6,12):\n",
    "        return 'Morning'\n",
    "    elif x in range(12,16):\n",
    "        return 'Afternoon'\n",
    "    elif x in range(16,22):\n",
    "        return 'Evening'\n",
    "    else:\n",
    "        return 'Late night'"
   ]
  },
  {
   "cell_type": "code",
   "execution_count": 16,
   "metadata": {},
   "outputs": [],
   "source": [
    "data['pickup_timeofday']=data['pickup_hour'].apply(time_of_day)\n",
    "data['dropoff_timeofday']=data['dropoff_hour'].apply(time_of_day)"
   ]
  },
  {
   "cell_type": "code",
   "execution_count": 17,
   "metadata": {},
   "outputs": [],
   "source": [
    "from geopy.distance import great_circle\n",
    "\n",
    "def cal_distance(pickup_lat,pickup_long,dropoff_lat,dropoff_long):\n",
    " \n",
    " start_coordinates=(pickup_lat,pickup_long)\n",
    " stop_coordinates=(dropoff_lat,dropoff_long)\n",
    " \n",
    " return great_circle(start_coordinates,stop_coordinates).km\n"
   ]
  },
  {
   "cell_type": "code",
   "execution_count": null,
   "metadata": {},
   "outputs": [],
   "source": [
    "data['distance'] = data.apply(lambda x: cal_distance(x['pickup_latitude'],x['pickup_longitude'],x['dropoff_latitude'],x['dropoff_longitude'] ), axis=1)\n"
   ]
  },
  {
   "cell_type": "code",
   "execution_count": null,
   "metadata": {},
   "outputs": [],
   "source": [
    "data.head()"
   ]
  }
 ],
 "metadata": {
  "kernelspec": {
   "display_name": "Python 3",
   "language": "python",
   "name": "python3"
  },
  "language_info": {
   "codemirror_mode": {
    "name": "ipython",
    "version": 3
   },
   "file_extension": ".py",
   "mimetype": "text/x-python",
   "name": "python",
   "nbconvert_exporter": "python",
   "pygments_lexer": "ipython3",
   "version": "3.7.9-final"
  }
 },
 "nbformat": 4,
 "nbformat_minor": 1
}